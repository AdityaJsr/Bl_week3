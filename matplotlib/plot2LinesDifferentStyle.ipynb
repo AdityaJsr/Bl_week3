{
 "metadata": {
  "language_info": {
   "codemirror_mode": {
    "name": "ipython",
    "version": 3
   },
   "file_extension": ".py",
   "mimetype": "text/x-python",
   "name": "python",
   "nbconvert_exporter": "python",
   "pygments_lexer": "ipython3",
   "version": 3
  },
  "orig_nbformat": 2
 },
 "nbformat": 4,
 "nbformat_minor": 2,
 "cells": [
  {
   "cell_type": "code",
   "execution_count": null,
   "metadata": {},
   "outputs": [],
   "source": [
    "\n",
    "\"\"\"\n",
    "Title - Write a Python program to plot two or more lines with different styles.\n",
    "Author name - Aditya Kumar\n",
    "Ceation time - ‎‎13 ‎March ‎2021 ‏‎\n",
    "Modified time - ‎‎‎13 ‎March ‎2021‎\n",
    "\n",
    "\"\"\"\n",
    "\n",
    "import matplotlib.pyplot as plt\n",
    "\n",
    "# Data for the two lines.\n",
    "x1 = [10,20,30,40]\n",
    "x2 = [10,20,30,40]\n",
    "y1 = [20,40,10,50]\n",
    "y2 = [40,10,30,30]\n",
    "\n",
    "# Labels\n",
    "plt.xlabel('x - axis')\n",
    "plt.ylabel('y - axis')\n",
    "plt.title(\"Plot with two or more lines with different styles\")\n",
    "\n",
    "# Plot lines with different styles.\n",
    "plt.plot(x1,y1, color='blue', linewidth = 3,  label = 'line1-dotted',linestyle='dotted')\n",
    "plt.plot(x2,y2, color='red', linewidth = 5,  label = 'line2-dashed', linestyle='dashed')\n",
    "\n",
    "\n",
    "# Legend and show fucntions.\n",
    "plt.legend()\n",
    "plt.show()"
   ]
  }
 ]
}