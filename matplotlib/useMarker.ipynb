{
 "metadata": {
  "language_info": {
   "codemirror_mode": {
    "name": "ipython",
    "version": 3
   },
   "file_extension": ".py",
   "mimetype": "text/x-python",
   "name": "python",
   "nbconvert_exporter": "python",
   "pygments_lexer": "ipython3",
   "version": 3
  },
  "orig_nbformat": 2
 },
 "nbformat": 4,
 "nbformat_minor": 2,
 "cells": [
  {
   "cell_type": "code",
   "execution_count": null,
   "metadata": {},
   "outputs": [],
   "source": [
    "\"\"\"\n",
    "Title - Write a Python program to plot two or more lines and set the line markers\n",
    "Author name - Aditya Kumar\n",
    "Creation time - ‎‎13 ‎March ‎2021 ‏‎\n",
    "Modified time - ‎‎‎13 ‎March ‎2021‎\n",
    "\n",
    "\"\"\"\n",
    "\n"
   ]
  }
 ]
}