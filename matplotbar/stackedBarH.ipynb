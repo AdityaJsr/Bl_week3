{
 "metadata": {
  "language_info": {
   "codemirror_mode": {
    "name": "ipython",
    "version": 3
   },
   "file_extension": ".py",
   "mimetype": "text/x-python",
   "name": "python",
   "nbconvert_exporter": "python",
   "pygments_lexer": "ipython3",
   "version": "3.8.5-final"
  },
  "orig_nbformat": 2,
  "kernelspec": {
   "name": "python3",
   "display_name": "Python 3.8.5 64-bit (conda)",
   "metadata": {
    "interpreter": {
     "hash": "ecf5722fdaf1897a315d257d89d94520bfcaa453217d5becf09b39e73618b0de"
    }
   }
  }
 },
 "nbformat": 4,
 "nbformat_minor": 2,
 "cells": [
  {
   "cell_type": "code",
   "execution_count": 2,
   "metadata": {},
   "outputs": [
    {
     "output_type": "error",
     "ename": "TypeError",
     "evalue": "bar() missing 1 required positional argument: 'x'",
     "traceback": [
      "\u001b[1;31m---------------------------------------------------------------------------\u001b[0m",
      "\u001b[1;31mTypeError\u001b[0m                                 Traceback (most recent call last)",
      "\u001b[1;32m<ipython-input-2-7699e4355f1b>\u001b[0m in \u001b[0;36m<module>\u001b[1;34m\u001b[0m\n\u001b[0;32m     35\u001b[0m         \u001b[0mvalue\u001b[0m \u001b[1;33m=\u001b[0m \u001b[0mvalues\u001b[0m\u001b[1;33m[\u001b[0m\u001b[0midx\u001b[0m\u001b[1;33m]\u001b[0m\u001b[1;33m\u001b[0m\u001b[1;33m\u001b[0m\u001b[0m\n\u001b[0;32m     36\u001b[0m         \u001b[0mleft\u001b[0m \u001b[1;33m=\u001b[0m \u001b[0mlefts\u001b[0m\u001b[1;33m[\u001b[0m\u001b[0midx\u001b[0m\u001b[1;33m]\u001b[0m\u001b[1;33m\u001b[0m\u001b[1;33m\u001b[0m\u001b[0m\n\u001b[1;32m---> 37\u001b[1;33m \tplt.bar(left=left, height=0.8, width=value, bottom=bottoms, \n\u001b[0m\u001b[0;32m     38\u001b[0m \tcolor=color, orientation=\"horizontal\", label=name)\n\u001b[0;32m     39\u001b[0m \u001b[0mplt\u001b[0m\u001b[1;33m.\u001b[0m\u001b[0myticks\u001b[0m\u001b[1;33m(\u001b[0m\u001b[0mbottoms\u001b[0m\u001b[1;33m+\u001b[0m\u001b[1;36m0.4\u001b[0m\u001b[1;33m,\u001b[0m \u001b[1;33m[\u001b[0m\u001b[1;34m\"Student-%d\"\u001b[0m \u001b[1;33m%\u001b[0m \u001b[1;33m(\u001b[0m\u001b[0mt\u001b[0m\u001b[1;33m+\u001b[0m\u001b[1;36m1\u001b[0m\u001b[1;33m)\u001b[0m \u001b[1;32mfor\u001b[0m \u001b[0mt\u001b[0m \u001b[1;32min\u001b[0m \u001b[0mbottoms\u001b[0m\u001b[1;33m]\u001b[0m\u001b[1;33m)\u001b[0m\u001b[1;33m\u001b[0m\u001b[1;33m\u001b[0m\u001b[0m\n",
      "\u001b[1;31mTypeError\u001b[0m: bar() missing 1 required positional argument: 'x'"
     ]
    }
   ],
   "source": [
    "\n",
    "\"\"\"\n",
    "Title - Write a Python program to create a horizontal bar chart with differently ordered colors.\n",
    "        Note: Use bottom to stack the women?s bars on top of the men?s bars.\n",
    "        Sample Data Set:\n",
    "        languages = [['Language','Science','Math'],\n",
    "        ['Science','Math','Language'],\n",
    "        ['Math','Language','Science']]\n",
    "        numbers = [{'Language':75, 'Science':88, 'Math':96},\n",
    "        {'Language':71, 'Science':95, 'Math':92},\n",
    "{'Language':75, 'Science':90, 'Math':89}]\n",
    "Author name - Aditya Kumar\n",
    "Creation time - ‎‎15 ‎March ‎2021 ‏‎\n",
    "Modified time - ‎‎‎16 ‎March ‎2021‎\n",
    "\n",
    "\"\"\"\n",
    "import numpy as np\n",
    "from matplotlib import pyplot as plt\n",
    "\n",
    "num_set = [{'Language':75, 'Science':88, 'Math':96},\n",
    "           {'Language':71, 'Science':95, 'Math':92},\n",
    "           {'Language':75, 'Science':90, 'Math':89}]\n",
    "\n",
    "lan_guage    = [['Language','Science','Math'], \n",
    "               ['Science','Math','Language'], \n",
    "               ['Math','Language','Science']] \n",
    "colors = [\"r\",\"g\",\"b\"]\n",
    "names = sorted(num_set[0].keys())\n",
    "values = np.array([[data[name] for name in order] for data,order in zip(num_set, lan_guage)])\n",
    "lefts = np.insert(np.cumsum(values, axis=1),0,0, axis=1)[:, :-1]\n",
    "orders = np.array(lan_guage)\n",
    "bottoms = np.arange(len(lan_guage))\n",
    "\n",
    "for name, color in zip(names, colors):\n",
    "\tidx = np.where(orders == name)\n",
    "\tvalue = values[idx]\n",
    "\tleft = lefts[idx]\n",
    "\tplt.bar(left=left, height=0.8, width=value, bottom=bottoms, \n",
    "\tcolor=color, orientation=\"horizontal\", label=name)\n",
    "    \n",
    "plt.yticks(bottoms+0.4, [\"Student-%d\" % (t+1) for t in bottoms])\n",
    "plt.legend(loc=\"best\", bbox_to_anchor=(1.0, 1.00))\n",
    "plt.subplots_adjust(right=0.75)\n",
    "\n",
    "# Turn on the grid\n",
    "plt.minorticks_on()\n",
    "plt.grid(which='major', linestyle='-', linewidth='0.5', color='green')\n",
    "plt.grid(which='minor', linestyle=':', linewidth='0.5', color='black')\n",
    "\n",
    "plt.show()\n",
    "\n",
    "\n"
   ]
  },
  {
   "cell_type": "code",
   "execution_count": null,
   "metadata": {},
   "outputs": [],
   "source": []
  }
 ]
}