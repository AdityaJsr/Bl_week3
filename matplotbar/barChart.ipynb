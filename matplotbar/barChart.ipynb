{
 "metadata": {
  "language_info": {
   "codemirror_mode": {
    "name": "ipython",
    "version": 3
   },
   "file_extension": ".py",
   "mimetype": "text/x-python",
   "name": "python",
   "nbconvert_exporter": "python",
   "pygments_lexer": "ipython3",
   "version": 3
  },
  "orig_nbformat": 2
 },
 "nbformat": 4,
 "nbformat_minor": 2,
 "cells": [
  {
   "cell_type": "code",
   "execution_count": null,
   "metadata": {},
   "outputs": [],
   "source": [
    "\"\"\"\n",
    "Title - Write a Python programming to display a bar chart of the popularity of programming\n",
    "        Languages.\n",
    "        Sample data:\n",
    "        Programming languages: Java, Python, PHP, JavaScript, C#, C++\n",
    "        Popularity: 22.2, 17.6, 8.8, 8, 7.7, 6.7\n",
    "Author name - Aditya Kumar\n",
    "Creation time - ‎‎14 ‎March ‎2021 ‏‎\n",
    "Modified time - ‎‎‎14 ‎March ‎2021‎\n",
    "\n",
    "\"\"\""
   ]
  }
 ]
}