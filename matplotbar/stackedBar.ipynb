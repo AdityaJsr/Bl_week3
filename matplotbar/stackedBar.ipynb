{
 "metadata": {
  "language_info": {
   "codemirror_mode": {
    "name": "ipython",
    "version": 3
   },
   "file_extension": ".py",
   "mimetype": "text/x-python",
   "name": "python",
   "nbconvert_exporter": "python",
   "pygments_lexer": "ipython3",
   "version": 3
  },
  "orig_nbformat": 2
 },
 "nbformat": 4,
 "nbformat_minor": 2,
 "cells": [
  {
   "cell_type": "code",
   "execution_count": null,
   "metadata": {},
   "outputs": [],
   "source": [
    "\n",
    "\"\"\"\n",
    "Title - Write a Python program to create a stacked bar plot with error bars.\n",
    "        Note: Use bottom to stack the women?s bars on top of the men?s bars.\n",
    "        Sample Data:\n",
    "        Means (men) = (22, 30, 35, 35, 26)\n",
    "        Means (women) = (25, 32, 30, 35, 29)\n",
    "        Men Standard deviation = (4, 3, 4, 1, 5)\n",
    "        Women Standard deviation = (3, 5, 2, 3, 3)\n",
    "Author name - Aditya Kumar\n",
    "Creation time - ‎‎15 ‎March ‎2021 ‏‎\n",
    "Modified time - ‎‎‎16 ‎March ‎2021‎\n",
    "\n",
    "\"\"\"\n",
    "import numpy as np\n",
    "import matplotlib.pyplot as plt\n",
    "\n",
    "N = 5\n",
    "menMeans = (22, 30, 35, 35, 26)\n",
    "womenMeans = (25, 32, 30, 35, 29)\n",
    "menStd = (4, 3, 4, 1, 5)\n",
    "womenStd = (3, 5, 2, 3, 3)\n",
    "# the x locations for the groups\n",
    "ind = np.arange(N)    \n",
    "# the width of the bars\n",
    "width = 0.2     \n",
    "\n",
    "p1 = plt.bar(ind, menMeans, width, yerr=menStd, color='b')\n",
    "p2 = plt.bar(ind, womenMeans, width,\n",
    "bottom=menMeans, yerr=womenStd, color='pink')\n",
    "\n",
    "plt.ylabel('Scores')\n",
    "plt.xlabel('Groups')\n",
    "plt.title('Scores by group\\n' + 'and gender')\n",
    "plt.xticks(ind, ('Group1', 'Group2', 'Group3', 'Group4', 'Group5'))\n",
    "plt.yticks(np.arange(0, 81, 10))\n",
    "plt.legend((p1[0], p2[0]), ('Men', 'Women'))\n",
    "\n",
    "plt.show()\n"
   ]
  }
 ]
}