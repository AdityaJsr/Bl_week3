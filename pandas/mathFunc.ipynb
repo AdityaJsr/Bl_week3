{
 "metadata": {
  "language_info": {
   "codemirror_mode": {
    "name": "ipython",
    "version": 3
   },
   "file_extension": ".py",
   "mimetype": "text/x-python",
   "name": "python",
   "nbconvert_exporter": "python",
   "pygments_lexer": "ipython3",
   "version": "3.8.5-final"
  },
  "orig_nbformat": 2,
  "kernelspec": {
   "name": "python3",
   "display_name": "Python 3.8.5 64-bit ('ProgramData': virtualenv)",
   "metadata": {
    "interpreter": {
     "hash": "ecf5722fdaf1897a315d257d89d94520bfcaa453217d5becf09b39e73618b0de"
    }
   }
  }
 },
 "nbformat": 4,
 "nbformat_minor": 2,
 "cells": [
  {
   "cell_type": "code",
   "execution_count": 20,
   "metadata": {},
   "outputs": [
    {
     "output_type": "stream",
     "name": "stdout",
     "text": [
      "0     2\n1     4\n2     6\n3     8\n4    10\ndtype: int64 \n 0    1\n1    3\n2    5\n3    7\n4    9\ndtype: int64\n"
     ]
    }
   ],
   "source": [
    "\"\"\"\n",
    "Title - Write a Python program to add, subtract, multiple and divide two Pandas Series.\n",
    "        Sample Series: [2, 4, 6, 8, 10], [1, 3, 5, 7, 9]\n",
    "Author name - Aditya Kumar\n",
    "Ceation time - ‎‎11 ‎March ‎2021 ‏‎\n",
    "Modified time - ‎‎‎11 ‎March ‎2021‎\n",
    "\n",
    "\"\"\"\n",
    "\n",
    "import pandas as pd\n",
    "\n",
    "df1 = pd.Series([2,4,6,8,10])\n",
    "df2 = pd.Series([1,3,5,7,9])\n",
    "\n",
    "print(df1,\"\\n\",df2)\n"
   ]
  },
  {
   "cell_type": "code",
   "execution_count": 21,
   "metadata": {},
   "outputs": [
    {
     "output_type": "stream",
     "name": "stdout",
     "text": [
      "0     3\n1     7\n2    11\n3    15\n4    19\ndtype: int64\n"
     ]
    }
   ],
   "source": [
    "# Adding the values of 2 data-frames using '+' operator.\n",
    "df = df1 + df2\n",
    "print(df)"
   ]
  },
  {
   "cell_type": "code",
   "execution_count": 22,
   "metadata": {},
   "outputs": [
    {
     "output_type": "stream",
     "name": "stdout",
     "text": [
      "0    1\n1    1\n2    1\n3    1\n4    1\ndtype: int64\n"
     ]
    }
   ],
   "source": [
    "# Subtracting the values of 2 data-frames using '-' operator.\n",
    "df = df1 - df2\n",
    "print(df)"
   ]
  },
  {
   "cell_type": "code",
   "execution_count": 23,
   "metadata": {},
   "outputs": [
    {
     "output_type": "stream",
     "name": "stdout",
     "text": [
      "0     2\n1    12\n2    30\n3    56\n4    90\ndtype: int64\n"
     ]
    }
   ],
   "source": [
    "# Multiplying the values of 2 data-frames using '*' operator.\n",
    "df = df1 * df2\n",
    "print(df)"
   ]
  },
  {
   "cell_type": "code",
   "execution_count": null,
   "metadata": {},
   "outputs": [],
   "source": [
    "# Dividing the values of 2 data-frames using '/' operator.\n",
    "df = df1 / df2\n",
    "print(df)"
   ]
  }
 ]
}