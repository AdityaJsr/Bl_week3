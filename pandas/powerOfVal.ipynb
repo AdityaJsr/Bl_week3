{
 "metadata": {
  "language_info": {
   "codemirror_mode": {
    "name": "ipython",
    "version": 3
   },
   "file_extension": ".py",
   "mimetype": "text/x-python",
   "name": "python",
   "nbconvert_exporter": "python",
   "pygments_lexer": "ipython3",
   "version": "3.8.5-final"
  },
  "orig_nbformat": 2,
  "kernelspec": {
   "name": "python3",
   "display_name": "Python 3.8.5 64-bit ('ProgramData': virtualenv)",
   "metadata": {
    "interpreter": {
     "hash": "ecf5722fdaf1897a315d257d89d94520bfcaa453217d5becf09b39e73618b0de"
    }
   }
  }
 },
 "nbformat": 4,
 "nbformat_minor": 2,
 "cells": [
  {
   "cell_type": "code",
   "execution_count": 2,
   "metadata": {},
   "outputs": [
    {
     "output_type": "stream",
     "name": "stdout",
     "text": [
      "<IntegerArray>\n[0, 1, 2, 3, 4, 5, 6]\nLength: 7, dtype: Int64\n<IntegerArray>\n[1, 1, 4, 27, 256, 3125, 46656]\nLength: 7, dtype: Int64\n"
     ]
    }
   ],
   "source": [
    "\"\"\"\n",
    "Title - Write a Python program to get the powers of an array values element-wise.\n",
    "        Note: First array elements raised to powers from second array\n",
    "        Expected Output:\n",
    "        Original array\n",
    "        [0 1 2 3 4 5 6]\n",
    "        First array elements raised to powers from second array, element-wise:\n",
    "        [ 0 1 8 27 64 125 216]\n",
    "\n",
    "Author name - Aditya Kumar\n",
    "Ceation time - ‎‎11 ‎March ‎2021 ‏‎\n",
    "Modified time - ‎‎‎11 ‎March ‎2021‎\n",
    "\n",
    "\"\"\"\n",
    "\n",
    "import pandas as pd\n",
    "import numpy as np\n",
    "\n",
    "dataFrame1 = pd.array([0,1,2,3,4,5,6])\n",
    "dataFrame2 = pd.Series([2,3,4,5,6,7,8])\n",
    "print(dataFrame1)\n",
    "\n",
    "print(np.power(dataFrame1, dataFrame1))"
   ]
  }
 ]
}