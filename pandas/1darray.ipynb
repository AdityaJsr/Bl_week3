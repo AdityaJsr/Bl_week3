{
 "metadata": {
  "language_info": {
   "codemirror_mode": {
    "name": "ipython",
    "version": 3
   },
   "file_extension": ".py",
   "mimetype": "text/x-python",
   "name": "python",
   "nbconvert_exporter": "python",
   "pygments_lexer": "ipython3",
   "version": "3.8.5-final"
  },
  "orig_nbformat": 2,
  "kernelspec": {
   "name": "python3",
   "display_name": "Python 3.8.5 64-bit (conda)",
   "metadata": {
    "interpreter": {
     "hash": "ecf5722fdaf1897a315d257d89d94520bfcaa453217d5becf09b39e73618b0de"
    }
   }
  }
 },
 "nbformat": 4,
 "nbformat_minor": 2,
 "cells": [
  {
   "cell_type": "code",
   "execution_count": 5,
   "metadata": {},
   "outputs": [
    {
     "output_type": "stream",
     "name": "stdout",
     "text": [
      "<PandasArray>\n[1.0, 2.0, 3.0, 4.0, 5.0, 6.0, 7.0, 8.0, 9.0]\nLength: 9, dtype: float64\n"
     ]
    }
   ],
   "source": [
    "\"\"\"\n",
    "Title - Write a Python program to create and display a one-dimensional array-like object\n",
    "containing an array of data using Pandas module.\n",
    "Author name - Aditya Kumar\n",
    "Ceation time - ‎‎11 ‎March ‎2021 ‏‎\n",
    "Modified time - ‎‎‎11 ‎March ‎2021‎\n",
    "\"\"\"\n",
    "\n",
    "import pandas as pd\n",
    "pdArrayObj = pd.array([1,2,3,4,5,6,7,8,9], dtype= int)\n",
    "print(pdArrayObj)"
   ]
  },
  {
   "cell_type": "code",
   "execution_count": 7,
   "metadata": {},
   "outputs": [
    {
     "output_type": "stream",
     "name": "stdout",
     "text": [
      "0    1\n1    2\n2    3\n3    4\n4    5\n5    6\n6    7\n7    8\n8    9\ndtype: int32\n"
     ]
    }
   ],
   "source": [
    "pdSeries = pd.Series([1,2,3,4,5,6,7,8,9], dtype= int)\n",
    "print(pdSeries)"
   ]
  },
  {
   "cell_type": "code",
   "execution_count": null,
   "metadata": {},
   "outputs": [],
   "source": []
  }
 ]
}