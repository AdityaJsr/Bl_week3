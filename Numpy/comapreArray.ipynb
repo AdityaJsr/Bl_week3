{
 "metadata": {
  "language_info": {
   "codemirror_mode": {
    "name": "ipython",
    "version": 3
   },
   "file_extension": ".py",
   "mimetype": "text/x-python",
   "name": "python",
   "nbconvert_exporter": "python",
   "pygments_lexer": "ipython3",
   "version": "3.8.5-final"
  },
  "orig_nbformat": 2,
  "kernelspec": {
   "name": "python3",
   "display_name": "Python 3.8.5 64-bit (conda)",
   "metadata": {
    "interpreter": {
     "hash": "ecf5722fdaf1897a315d257d89d94520bfcaa453217d5becf09b39e73618b0de"
    }
   }
  }
 },
 "nbformat": 4,
 "nbformat_minor": 2,
 "cells": [
  {
   "cell_type": "code",
   "execution_count": 7,
   "metadata": {},
   "outputs": [
    {
     "output_type": "stream",
     "name": "stdout",
     "text": [
      "[1 2 3 4] [ 5  8 -4  2]\n"
     ]
    }
   ],
   "source": [
    "\n",
    "'''\n",
    "Title -   Write a Python program compare two arrays using numpy.\n",
    "            Array a: [1 2]\n",
    "            Array b: [4 5]\n",
    "            a > b\n",
    "            [False False]\n",
    "            a >= b\n",
    "            [False False]\n",
    "            a < b\n",
    "            [ True True]\n",
    "            a <= b\n",
    "            [ True True]\n",
    "\n",
    "\n",
    "Author name - Aditya Kumar\n",
    "Ceation time - ‎‎10 ‎March ‎2021 ‏‎\n",
    "Modified time - ‎‎‎10 ‎March ‎2021‎\n",
    "\n",
    "'''\n",
    "\n",
    "import numpy as np\n",
    "\n",
    "array1 = np.array([1 ,2 ,3 ,4 ])\n",
    "array2 = np.array([5 ,8 ,-4 ,2 ])\n",
    "\n",
    "print(\"array a : \",array1,\"\\t\",\"array b : \", array2)"
   ]
  },
  {
   "cell_type": "code",
   "execution_count": 10,
   "metadata": {},
   "outputs": [
    {
     "output_type": "stream",
     "name": "stdout",
     "text": [
      "Array a:  [1 2 3 4] \t Array b:  [ 5  8 -4  2]\na > b\n [False False  True  True]\na >= b\n [False False  True  True]\na < b\n [ True  True False False]\na <= b\n [ True  True False False]\n"
     ]
    }
   ],
   "source": [
    "print(\"Array a: \",array1,\"\\t\", \"Array b: \",array2)\n",
    "print(\"a > b\\n\",(np.greater(array1, array2)))\n",
    "print(\"a >= b\\n\",(np.greater_equal(array1, array2)))\n",
    "print(\"a < b\\n\",(np.less(array1, array2)))\n",
    "print(\"a <= b\\n\",(np.less_equal(array1, array2)))"
   ]
  }
 ]
}