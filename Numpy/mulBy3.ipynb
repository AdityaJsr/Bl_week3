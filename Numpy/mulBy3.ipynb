{
 "metadata": {
  "language_info": {
   "codemirror_mode": {
    "name": "ipython",
    "version": 3
   },
   "file_extension": ".py",
   "mimetype": "text/x-python",
   "name": "python",
   "nbconvert_exporter": "python",
   "pygments_lexer": "ipython3",
   "version": "3.8.5-final"
  },
  "orig_nbformat": 2,
  "kernelspec": {
   "name": "python3",
   "display_name": "Python 3.8.5 64-bit (conda)",
   "metadata": {
    "interpreter": {
     "hash": "ecf5722fdaf1897a315d257d89d94520bfcaa453217d5becf09b39e73618b0de"
    }
   }
  }
 },
 "nbformat": 4,
 "nbformat_minor": 2,
 "cells": [
  {
   "cell_type": "code",
   "execution_count": 12,
   "metadata": {},
   "outputs": [
    {
     "output_type": "stream",
     "name": "stdout",
     "text": [
      "[[ 0  1  2  3]\n [ 4  5  6  7]\n [ 8  9 10 11]]\n"
     ]
    }
   ],
   "source": [
    "'''\n",
    "Title - Write a Python program to create an array of (3, 4) shape, multiply every element value by 3 and display the new array.\n",
    "        Expected Output:\n",
    "        Original array elements:\n",
    "        [[ 0 1 2 3]\n",
    "        [ 4 5 6 7]\n",
    "        [ 8 9 10 11]]\n",
    "        New array elements:\n",
    "        [[ 0 3 6 9]\n",
    "        [12 15 18 21]\n",
    "        [24 27 30 33]]\n",
    "Author name - Aditya Kumar\n",
    "Ceation time - ‎‎10 ‎March ‎2021 ‏‎\n",
    "Modified time - ‎‎‎10 ‎March ‎2021‎\n",
    "'''\n",
    "\n",
    "import numpy as np\n",
    "\n",
    "array1 = np.arange(12).reshape((3,4))\n",
    "print(array1)\n"
   ]
  },
  {
   "cell_type": "code",
   "execution_count": 13,
   "metadata": {},
   "outputs": [
    {
     "output_type": "stream",
     "name": "stdout",
     "text": [
      "New array elements:\n[[ 0  3  6  9]\n [12 15 18 21]\n [24 27 30 33]]\n"
     ]
    }
   ],
   "source": [
    "for units in np.nditer(array1, op_flags=['readwrite']):\n",
    "    units[...] = 3 * units\n",
    "print(\"New array elements:\")\n",
    "print(array1)"
   ]
  },
  {
   "cell_type": "code",
   "execution_count": null,
   "metadata": {},
   "outputs": [],
   "source": []
  }
 ]
}