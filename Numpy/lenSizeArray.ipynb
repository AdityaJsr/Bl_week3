{
 "metadata": {
  "language_info": {
   "codemirror_mode": {
    "name": "ipython",
    "version": 3
   },
   "file_extension": ".py",
   "mimetype": "text/x-python",
   "name": "python",
   "nbconvert_exporter": "python",
   "pygments_lexer": "ipython3",
   "version": "3.8.5-final"
  },
  "orig_nbformat": 2,
  "kernelspec": {
   "name": "python3",
   "display_name": "Python 3.8.5 64-bit (conda)",
   "metadata": {
    "interpreter": {
     "hash": "ecf5722fdaf1897a315d257d89d94520bfcaa453217d5becf09b39e73618b0de"
    }
   }
  }
 },
 "nbformat": 4,
 "nbformat_minor": 2,
 "cells": [
  {
   "cell_type": "code",
   "execution_count": 1,
   "metadata": {},
   "outputs": [
    {
     "output_type": "stream",
     "name": "stdout",
     "text": [
      "[ 555  897 -587]\n"
     ]
    }
   ],
   "source": [
    "\n",
    "'''\n",
    "Title -   Write a Python program to find the number of elements of an array, length of one\n",
    "            array element in bytes and total bytes consumed by the elements.\n",
    "            Expected Output:\n",
    "            Size of the array: 3\n",
    "            Length of one array element in bytes: 8\n",
    "            Total bytes consumed by the elements of the array: 24\n",
    "\n",
    "\n",
    "Author name - Aditya Kumar\n",
    "Ceation time - ‎‎10 ‎March ‎2021 ‏‎\n",
    "Modified time - ‎‎‎10 ‎March ‎2021‎\n",
    "\n",
    "'''\n",
    "\n",
    "import numpy as np\n",
    "\n",
    "array1 = np.array([555,897,-587])\n",
    "\n",
    "print(array1)\n"
   ]
  },
  {
   "cell_type": "code",
   "execution_count": null,
   "metadata": {},
   "outputs": [],
   "source": [
    "print(\"Size of the array: \", array1.size)\n",
    "print(\"Length of one array element in bytes: \", array1.itemsize)\n",
    "print(\"Total bytes consumed by the elements of the array: \", array1.nbytes)"
   ]
  }
 ]
}