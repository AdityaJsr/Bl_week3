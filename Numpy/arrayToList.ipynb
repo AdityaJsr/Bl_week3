{
 "metadata": {
  "language_info": {
   "codemirror_mode": {
    "name": "ipython",
    "version": 3
   },
   "file_extension": ".py",
   "mimetype": "text/x-python",
   "name": "python",
   "nbconvert_exporter": "python",
   "pygments_lexer": "ipython3",
   "version": "3.8.5-final"
  },
  "orig_nbformat": 2,
  "kernelspec": {
   "name": "python3",
   "display_name": "Python 3.8.5 64-bit (conda)",
   "metadata": {
    "interpreter": {
     "hash": "ecf5722fdaf1897a315d257d89d94520bfcaa453217d5becf09b39e73618b0de"
    }
   }
  }
 },
 "nbformat": 4,
 "nbformat_minor": 2,
 "cells": [
  {
   "cell_type": "code",
   "execution_count": 4,
   "metadata": {},
   "outputs": [
    {
     "output_type": "stream",
     "name": "stdout",
     "text": [
      "The orignal array format \n [[0 1 2]\n [3 4 5]\n [6 7 8]]\n"
     ]
    }
   ],
   "source": [
    "'''\n",
    "Title - Write a Python program to convert a NumPy array into Python list structure.\n",
    "        Expected Output:\n",
    "        Original array elements:\n",
    "        [[0 1]\n",
    "        [2 3]\n",
    "        [4 5]]\n",
    "        Array to list:\n",
    "        [[0, 1], [2, 3], [4, 5]]\n",
    "Author name - Aditya Kumar\n",
    "Ceation time - ‎‎10 ‎March ‎2021 ‏‎\n",
    "Modified time - ‎‎‎10 ‎March ‎2021‎\n",
    "'''\n",
    "\n",
    "import numpy as np\n",
    "\n",
    "array1 = np.arange(9).reshape(3,3)\n",
    "print(\"The orignal array format \\n\",array1)"
   ]
  },
  {
   "cell_type": "code",
   "execution_count": null,
   "metadata": {},
   "outputs": [],
   "source": [
    "print(array1.tolist())"
   ]
  }
 ]
}