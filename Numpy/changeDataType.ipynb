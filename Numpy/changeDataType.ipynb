{
 "metadata": {
  "language_info": {
   "codemirror_mode": {
    "name": "ipython",
    "version": 3
   },
   "file_extension": ".py",
   "mimetype": "text/x-python",
   "name": "python",
   "nbconvert_exporter": "python",
   "pygments_lexer": "ipython3",
   "version": "3.8.5-final"
  },
  "orig_nbformat": 2,
  "kernelspec": {
   "name": "python3",
   "display_name": "Python 3.8.5 64-bit (conda)",
   "metadata": {
    "interpreter": {
     "hash": "ecf5722fdaf1897a315d257d89d94520bfcaa453217d5becf09b39e73618b0de"
    }
   }
  }
 },
 "nbformat": 4,
 "nbformat_minor": 2,
 "cells": [
  {
   "cell_type": "code",
   "execution_count": 9,
   "metadata": {},
   "outputs": [
    {
     "output_type": "stream",
     "name": "stdout",
     "text": [
      "[[10 20 50]\n [80 70 60]]\nData type of the array array1 is: int32\n"
     ]
    }
   ],
   "source": [
    "'''\n",
    "Title - Write a Python program to change the data type of an array.\n",
    "        Expected Output:\n",
    "        [[ 2 4 6]\n",
    "        [ 6 8 10]]\n",
    "        Data type of the array x is: int32\n",
    "        New Type: float64\n",
    "        [[ 2. 4. 6.]\n",
    "        [ 6. 8. 10.]]\n",
    "\n",
    "Author name - Aditya Kumar\n",
    "Ceation time - ‎‎10 ‎March ‎2021 ‏‎\n",
    "Modified time - ‎‎‎10 ‎March ‎2021‎\n",
    "'''\n",
    "\n",
    "import numpy as np\n",
    "\n",
    "array1 = np.array([[10,20,50],[80,70,60]], np.int32)\n",
    "print(array1)\n",
    "print(\"Data type of the array array1 is:\",array1.dtype)"
   ]
  },
  {
   "cell_type": "code",
   "execution_count": 10,
   "metadata": {},
   "outputs": [
    {
     "output_type": "stream",
     "name": "stdout",
     "text": [
      "[[10. 20. 50.]\n [80. 70. 60.]]\n"
     ]
    }
   ],
   "source": [
    "array2 = array1.astype(float)\n",
    "print(array2)\n",
    "print(\"Data type of the array array2 is:\",array1.dtype)"
   ]
  },
  {
   "cell_type": "code",
   "execution_count": null,
   "metadata": {},
   "outputs": [],
   "source": []
  }
 ]
}