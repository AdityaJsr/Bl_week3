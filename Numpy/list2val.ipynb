{
 "metadata": {
  "language_info": {
   "codemirror_mode": {
    "name": "ipython",
    "version": 3
   },
   "file_extension": ".py",
   "mimetype": "text/x-python",
   "name": "python",
   "nbconvert_exporter": "python",
   "pygments_lexer": "ipython3",
   "version": "3.8.5-final"
  },
  "orig_nbformat": 2,
  "kernelspec": {
   "name": "python3",
   "display_name": "Python 3.8.5 64-bit (conda)",
   "metadata": {
    "interpreter": {
     "hash": "ecf5722fdaf1897a315d257d89d94520bfcaa453217d5becf09b39e73618b0de"
    }
   }
  }
 },
 "nbformat": 4,
 "nbformat_minor": 2,
 "cells": [
  {
   "cell_type": "code",
   "execution_count": 5,
   "metadata": {},
   "outputs": [
    {
     "output_type": "stream",
     "name": "stdout",
     "text": [
      "[12.23, 13.32, 100, 36.32]\n"
     ]
    }
   ],
   "source": [
    "\n",
    "'''\n",
    "Title -  Write a Python program to convert a list of numeric value into a one-dimensional\n",
    "        NumPy array.\n",
    "        Expected Output:\n",
    "        Original List: [12.23, 13.32, 100, 36.32]\n",
    "        One-dimensional numpy array: [ 12.23 13.32 100. 36.32]\n",
    "\n",
    "Author name - Aditya Kumar\n",
    "Ceation time - ‎‎10 ‎March ‎2021 ‏‎\n",
    "Modified time - ‎‎‎10 ‎March ‎2021‎\n",
    "'''\n",
    "\n",
    "import numpy as np\n",
    "\n",
    "list1 = [12.23, 13.32, 100, 36.32]\n",
    "print(list1)"
   ]
  },
  {
   "cell_type": "code",
   "execution_count": 6,
   "metadata": {},
   "outputs": [
    {
     "output_type": "stream",
     "name": "stdout",
     "text": [
      "[ 12.23  13.32 100.    36.32] <class 'numpy.ndarray'>\n"
     ]
    }
   ],
   "source": [
    "arr = np.array(list1)\n",
    "print(arr, type(arr))"
   ]
  }
 ]
}