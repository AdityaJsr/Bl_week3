{
 "metadata": {
  "language_info": {
   "codemirror_mode": {
    "name": "ipython",
    "version": 3
   },
   "file_extension": ".py",
   "mimetype": "text/x-python",
   "name": "python",
   "nbconvert_exporter": "python",
   "pygments_lexer": "ipython3",
   "version": "3.8.5-final"
  },
  "orig_nbformat": 2,
  "kernelspec": {
   "name": "python3",
   "display_name": "Python 3.8.5 64-bit (conda)",
   "metadata": {
    "interpreter": {
     "hash": "ecf5722fdaf1897a315d257d89d94520bfcaa453217d5becf09b39e73618b0de"
    }
   }
  }
 },
 "nbformat": 4,
 "nbformat_minor": 2,
 "cells": [
  {
   "cell_type": "code",
   "execution_count": 16,
   "metadata": {},
   "outputs": [
    {
     "output_type": "stream",
     "name": "stdout",
     "text": [
      "The orignal array \n [1 2 3 4 5]\n"
     ]
    }
   ],
   "source": [
    "'''\n",
    "Title - Write a Python program to make an array immutable (read-only).\n",
    "        Expected Output:\n",
    "        Test the array is read-only or not:\n",
    "        Try to change the value of the first element:\n",
    "        Traceback (most recent call last):\n",
    "        File \"19236bd0-0bd9-11e7-a232-c706d0968eb6.py\", line 6, in\n",
    "        x[0] = 1\n",
    "        ValueError: assignment destination is read-only\n",
    "\n",
    "Author name - Aditya Kumar\n",
    "Ceation time - ‎‎10 ‎March ‎2021 ‏‎\n",
    "Modified time - ‎‎‎10 ‎March ‎2021‎\n",
    "'''\n",
    "\n",
    "import numpy as np\n",
    "\n",
    "array1 = np.array([1,2,3,4,5])\n",
    "\n",
    "print(\"The orignal array \\n\",array1)\n"
   ]
  },
  {
   "cell_type": "code",
   "execution_count": 17,
   "metadata": {},
   "outputs": [
    {
     "output_type": "stream",
     "name": "stdout",
     "text": [
      "[1 2 3 4 5 6 7]\n"
     ]
    }
   ],
   "source": [
    "array2 = np.append(array1, [6,7] )\n",
    "print(array2)"
   ]
  },
  {
   "cell_type": "code",
   "execution_count": 18,
   "metadata": {},
   "outputs": [
    {
     "output_type": "stream",
     "name": "stdout",
     "text": [
      "[1 2 3 4 5 6 7 8]\n"
     ]
    }
   ],
   "source": [
    "array1.flags.writeable = False    \n",
    "array1 = np.delete(-1)\n",
    "print(array1)"
   ]
  },
  {
   "cell_type": "code",
   "execution_count": null,
   "metadata": {},
   "outputs": [],
   "source": []
  }
 ]
}