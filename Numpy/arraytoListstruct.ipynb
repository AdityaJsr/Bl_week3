{
 "metadata": {
  "language_info": {
   "codemirror_mode": {
    "name": "ipython",
    "version": 3
   },
   "file_extension": ".py",
   "mimetype": "text/x-python",
   "name": "python",
   "nbconvert_exporter": "python",
   "pygments_lexer": "ipython3",
   "version": "3.8.5-final"
  },
  "orig_nbformat": 2,
  "kernelspec": {
   "name": "python3",
   "display_name": "Python 3.8.5 64-bit (conda)",
   "metadata": {
    "interpreter": {
     "hash": "ecf5722fdaf1897a315d257d89d94520bfcaa453217d5becf09b39e73618b0de"
    }
   }
  }
 },
 "nbformat": 4,
 "nbformat_minor": 2,
 "cells": [
  {
   "cell_type": "code",
   "execution_count": 1,
   "metadata": {},
   "outputs": [
    {
     "output_type": "stream",
     "name": "stdout",
     "text": [
      "[0.26153123 0.52760141 0.5718299  0.5927067  0.7831874  0.69746349\n 0.35399976 0.99469633 0.0694458  0.54711478]\n"
     ]
    }
   ],
   "source": [
    "'''\n",
    "Title - Write a Python program to convert a NumPy array into Python list structure.\n",
    "        Expected Output:\n",
    "        Original array elements:\n",
    "        [ 0.26153123 0.52760141 0.5718299 0.5927067 0.7831874 0.69746349\n",
    "        0.35399976 0.99469633 0.0694458 0.54711478]\n",
    "        Print array values with precision 3:\n",
    "        [ 0.262 0.528 0.572 0.593 0.783 0.697 0.354 0.995 0.069 0.547]\n",
    "Author name - Aditya Kumar\n",
    "Ceation time - ‎‎11 ‎March ‎2021 ‏‎\n",
    "Modified time - ‎‎‎11 ‎March ‎2021‎\n",
    "\n",
    "'''\n",
    "import numpy as np\n",
    "\n",
    "array1 = np.array([ 0.26153123, 0.52760141, 0.5718299, 0.5927067, 0.7831874, 0.69746349, 0.35399976, 0.99469633, 0.0694458, 0.54711478])\n",
    "\n",
    "print(array1)\n"
   ]
  },
  {
   "cell_type": "code",
   "execution_count": null,
   "metadata": {},
   "outputs": [],
   "source": [
    "np.set_printoptions(precision=3)\r\n",
    "print(array1)"
   ]
  }
 ]
}