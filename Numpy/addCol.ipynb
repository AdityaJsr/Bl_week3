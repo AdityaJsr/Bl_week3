{
 "metadata": {
  "language_info": {
   "codemirror_mode": {
    "name": "ipython",
    "version": 3
   },
   "file_extension": ".py",
   "mimetype": "text/x-python",
   "name": "python",
   "nbconvert_exporter": "python",
   "pygments_lexer": "ipython3",
   "version": "3.8.5-final"
  },
  "orig_nbformat": 2,
  "kernelspec": {
   "name": "python3",
   "display_name": "Python 3.8.5 64-bit (conda)",
   "metadata": {
    "interpreter": {
     "hash": "ecf5722fdaf1897a315d257d89d94520bfcaa453217d5becf09b39e73618b0de"
    }
   }
  }
 },
 "nbformat": 4,
 "nbformat_minor": 2,
 "cells": [
  {
   "cell_type": "code",
   "execution_count": 12,
   "metadata": {},
   "outputs": [
    {
     "output_type": "stream",
     "name": "stdout",
     "text": [
      "Array1 : \n [[10 20 30]\n [40 50 60]] \nArray2 : \n [[100]\n [200]]\n"
     ]
    }
   ],
   "source": [
    "'''\n",
    "Title -  Write a Python program to how to add an extra column to an numpy array.\n",
    "        Expected Output:\n",
    "        [[ 10 20 30 100]\n",
    "        [ 40 50 60 200]]\n",
    "\n",
    "Author name - Aditya Kumar\n",
    "Ceation time - ‎‎10 ‎March ‎2021 ‏‎\n",
    "Modified time - ‎‎‎10 ‎March ‎2021‎\n",
    "'''\n",
    "\n",
    "\n",
    "import numpy as np\n",
    "\n",
    "\n",
    "array1 = np.array([[10,20,30], [40,50,60]])\n",
    "array2 = np.array([[100], [200]])\n",
    "\n",
    "print(\"Array1 : \\n\",array1,\"\\nArray2 : \\n\",array2)"
   ]
  },
  {
   "cell_type": "code",
   "execution_count": 14,
   "metadata": {},
   "outputs": [
    {
     "output_type": "stream",
     "name": "stdout",
     "text": [
      "[[100  10  20  30]\n [200  40  50  60]]\n"
     ]
    }
   ],
   "source": [
    "print(np.append(array2, array1, axis=1))"
   ]
  },
  {
   "cell_type": "code",
   "execution_count": null,
   "metadata": {},
   "outputs": [],
   "source": []
  }
 ]
}