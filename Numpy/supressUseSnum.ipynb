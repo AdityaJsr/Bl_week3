{
 "metadata": {
  "language_info": {
   "codemirror_mode": {
    "name": "ipython",
    "version": 3
   },
   "file_extension": ".py",
   "mimetype": "text/x-python",
   "name": "python",
   "nbconvert_exporter": "python",
   "pygments_lexer": "ipython3",
   "version": "3.8.5-final"
  },
  "orig_nbformat": 2,
  "kernelspec": {
   "name": "python3",
   "display_name": "Python 3.8.5 64-bit (conda)",
   "metadata": {
    "interpreter": {
     "hash": "ecf5722fdaf1897a315d257d89d94520bfcaa453217d5becf09b39e73618b0de"
    }
   }
  }
 },
 "nbformat": 4,
 "nbformat_minor": 2,
 "cells": [
  {
   "cell_type": "code",
   "execution_count": 10,
   "metadata": {},
   "outputs": [
    {
     "output_type": "stream",
     "name": "stdout",
     "text": [
      "Original array elements:\n[   0.       1.6   1200.       0.235]\n"
     ]
    }
   ],
   "source": [
    "'''\n",
    "Title - Write a Python program to suppresses the use of scientific notation for small\n",
    "        numbers in numpy array.\n",
    "        Expected Output:\n",
    "        Original array elements:\n",
    "        [ 1.60000000e-10 1.60000000e+00 1.20000000e+03 2.35000000e-01]\n",
    "        Print array values with precision 3:\n",
    "        [ 0. 1.6 1200. 0.235]\n",
    "\n",
    "Author name - Aditya Kumar\n",
    "Ceation time - ‎‎11 ‎March ‎2021 ‏‎\n",
    "Modified time - ‎‎‎11 ‎March ‎2021‎\n",
    "\n",
    "'''\n",
    "import numpy as np\n",
    "\n",
    "array1=np.array([1.60000000e-10, 1.60000000e+00, 1.20000000e+03, 2.35000000e-01])\n",
    "print(\"Original array elements:\")\n",
    "print(array1)\n"
   ]
  },
  {
   "cell_type": "code",
   "execution_count": 9,
   "metadata": {},
   "outputs": [
    {
     "output_type": "stream",
     "name": "stdout",
     "text": [
      "Print array values with precision 3:\n[   0.       1.6   1200.       0.235]\n"
     ]
    }
   ],
   "source": [
    "\n",
    "print(\"Print array values with precision 3:\")\n",
    "np.set_printoptions(suppress=False)\n",
    "print(x)"
   ]
  },
  {
   "cell_type": "code",
   "execution_count": null,
   "metadata": {},
   "outputs": [],
   "source": []
  }
 ]
}