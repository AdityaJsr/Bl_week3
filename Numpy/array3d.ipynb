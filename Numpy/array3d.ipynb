{
 "metadata": {
  "language_info": {
   "codemirror_mode": {
    "name": "ipython",
    "version": 3
   },
   "file_extension": ".py",
   "mimetype": "text/x-python",
   "name": "python",
   "nbconvert_exporter": "python",
   "pygments_lexer": "ipython3",
   "version": "3.8.5-final"
  },
  "orig_nbformat": 2,
  "kernelspec": {
   "name": "python3",
   "display_name": "Python 3.8.5 64-bit (conda)",
   "metadata": {
    "interpreter": {
     "hash": "ecf5722fdaf1897a315d257d89d94520bfcaa453217d5becf09b39e73618b0de"
    }
   }
  }
 },
 "nbformat": 4,
 "nbformat_minor": 2,
 "cells": [
  {
   "cell_type": "code",
   "execution_count": 11,
   "metadata": {},
   "outputs": [
    {
     "output_type": "stream",
     "name": "stdout",
     "text": [
      "[[ 2  3  4]\n [ 5  6  7]\n [ 8  9 10]]\n"
     ]
    }
   ],
   "source": [
    "\n",
    "'''\n",
    "Title -  Create a 3x3 matrix with values ranging from 2 to 10.\n",
    "        Expected Output:\n",
    "        [[ 2 3 4]\n",
    "        [ 5 6 7]\n",
    "        [ 8 9 10]]\n",
    "\n",
    "Author name - Aditya Kumar\n",
    "Ceation time - ‎‎10 ‎March ‎2021 ‏‎\n",
    "Modified time - ‎‎‎10 ‎March ‎2021‎\n",
    "'''\n",
    "import numpy as np\n",
    "arr = np.array([[2,3,4],[5,6,7],[8,9,10]] , ndmin =3)\n",
    "print(arr)"
   ]
  },
  {
   "cell_type": "code",
   "execution_count": 12,
   "metadata": {},
   "outputs": [
    {
     "output_type": "stream",
     "name": "stdout",
     "text": [
      "number of dimensions : 2\n"
     ]
    }
   ],
   "source": [
    "print('number of dimensions :', arr.ndim)"
   ]
  },
  {
   "cell_type": "code",
   "execution_count": null,
   "metadata": {},
   "outputs": [],
   "source": []
  }
 ]
}