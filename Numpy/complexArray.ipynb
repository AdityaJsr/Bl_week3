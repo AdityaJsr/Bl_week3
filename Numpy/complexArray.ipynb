{
 "metadata": {
  "language_info": {
   "codemirror_mode": {
    "name": "ipython",
    "version": 3
   },
   "file_extension": ".py",
   "mimetype": "text/x-python",
   "name": "python",
   "nbconvert_exporter": "python",
   "pygments_lexer": "ipython3",
   "version": "3.8.5-final"
  },
  "orig_nbformat": 2,
  "kernelspec": {
   "name": "python3",
   "display_name": "Python 3.8.5 64-bit (conda)",
   "metadata": {
    "interpreter": {
     "hash": "ecf5722fdaf1897a315d257d89d94520bfcaa453217d5becf09b39e73618b0de"
    }
   }
  }
 },
 "nbformat": 4,
 "nbformat_minor": 2,
 "cells": [
  {
   "cell_type": "code",
   "execution_count": 1,
   "metadata": {},
   "outputs": [
    {
     "output_type": "error",
     "ename": "SyntaxError",
     "evalue": "invalid syntax (<ipython-input-1-e9bd9b19886d>, line 21)",
     "traceback": [
      "\u001b[1;36m  File \u001b[1;32m\"<ipython-input-1-e9bd9b19886d>\"\u001b[1;36m, line \u001b[1;32m21\u001b[0m\n\u001b[1;33m    complex_num = np.array([1.00000000+0.j 0.70710678+0.70710678j])\u001b[0m\n\u001b[1;37m                                           ^\u001b[0m\n\u001b[1;31mSyntaxError\u001b[0m\u001b[1;31m:\u001b[0m invalid syntax\n"
     ]
    }
   ],
   "source": [
    "\n",
    "'''\n",
    "Title -   Write a Python program to find the real and imaginary parts of an array of complex\n",
    "            numbers.\n",
    "            Expected Output:\n",
    "            Original array [ 1.00000000+0.j 0.70710678+0.70710678j]\n",
    "            Real part of the array:\n",
    "            [ 1. 0.70710678]\n",
    "            Imaginary part of the array:\n",
    "            [ 0. 0.70710678]\n",
    "\n",
    "\n",
    "Author name - Aditya Kumar\n",
    "Ceation time - ‎‎10 ‎March ‎2021 ‏‎\n",
    "Modified time - ‎‎‎10 ‎March ‎2021‎\n",
    "\n",
    "'''\n",
    "\n",
    "import numpy as np\n",
    "\n",
    "# creating a NumPy array \n",
    "complex_num = np.array([1.00000000+0.j,0.70710678+0.70710678j]) \n",
    "\n",
    "# traversing the list \n",
    "for i in range(len(complex_num)): \n",
    "\tprint(\"{}. complex number is {}\".format(i + 1, complex_num[i])) \n",
    "\tprint (\"The real part is: {}\".format(complex_num[i].real)) \n",
    "\tprint (\"The imaginary part is: {}\\n\".format(complex_num[i].imag)) \n"
   ]
  },
  {
   "cell_type": "code",
   "execution_count": null,
   "metadata": {},
   "outputs": [],
   "source": []
  }
 ]
}