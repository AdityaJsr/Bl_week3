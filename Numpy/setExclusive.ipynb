{
 "metadata": {
  "language_info": {
   "codemirror_mode": {
    "name": "ipython",
    "version": 3
   },
   "file_extension": ".py",
   "mimetype": "text/x-python",
   "name": "python",
   "nbconvert_exporter": "python",
   "pygments_lexer": "ipython3",
   "version": "3.8.5-final"
  },
  "orig_nbformat": 2,
  "kernelspec": {
   "name": "python3",
   "display_name": "Python 3.8.5 64-bit (conda)",
   "metadata": {
    "interpreter": {
     "hash": "ecf5722fdaf1897a315d257d89d94520bfcaa453217d5becf09b39e73618b0de"
    }
   }
  }
 },
 "nbformat": 4,
 "nbformat_minor": 2,
 "cells": [
  {
   "cell_type": "code",
   "execution_count": 3,
   "metadata": {},
   "outputs": [
    {
     "output_type": "stream",
     "name": "stdout",
     "text": [
      "Array 1 : \n [ 0 10 20 30 40 60 80] \nArray 2 : \n [10 30 40 50 70]\n"
     ]
    }
   ],
   "source": [
    "'''\n",
    "Title -    Write a Python program to find the set exclusive-or of two arrays. Set exclusive-or\n",
    "            will return the sorted, unique values that are in only one (not both) of the input arrays.\n",
    "            Array1: [ 0 10 20 40 60 80]\n",
    "            Array2: [10, 30, 40, 50, 70]\n",
    "            Unique values that are in only one (not both) of the input arrays:\n",
    "            [ 0 20 30 50 60 70 80]\n",
    "\n",
    "Author name - Aditya Kumar\n",
    "Ceation time - ‎‎10 ‎March ‎2021 ‏‎\n",
    "Modified time - ‎‎‎10 ‎March ‎2021‎\n",
    "\n",
    "'''\n",
    "\n",
    "import numpy as np\n",
    "\n",
    "array1 = np.array([ 0, 10, 20, 30, 40, 60, 80])\n",
    "array2 = np.array([ 10, 30 , 40 ,50 ,70])\n",
    "\n",
    "print(\"Array 1 : \\n\",array1,\"\\nArray 2 : \\n\", array2)\n"
   ]
  },
  {
   "cell_type": "code",
   "execution_count": null,
   "metadata": {},
   "outputs": [],
   "source": [
    "print(\"Unique values that are in only one (not both) of the input arrays:\")\n",
    "print(np.setxor1d(array1, array2))"
   ]
  }
 ]
}