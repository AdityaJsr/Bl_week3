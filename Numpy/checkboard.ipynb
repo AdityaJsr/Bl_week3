{
 "metadata": {
  "language_info": {
   "codemirror_mode": {
    "name": "ipython",
    "version": 3
   },
   "file_extension": ".py",
   "mimetype": "text/x-python",
   "name": "python",
   "nbconvert_exporter": "python",
   "pygments_lexer": "ipython3",
   "version": "3.8.5-final"
  },
  "orig_nbformat": 2,
  "kernelspec": {
   "name": "python3",
   "display_name": "Python 3.8.5 64-bit (conda)",
   "metadata": {
    "interpreter": {
     "hash": "ecf5722fdaf1897a315d257d89d94520bfcaa453217d5becf09b39e73618b0de"
    }
   }
  }
 },
 "nbformat": 4,
 "nbformat_minor": 2,
 "cells": [
  {
   "cell_type": "code",
   "execution_count": 1,
   "metadata": {},
   "outputs": [
    {
     "output_type": "stream",
     "name": "stdout",
     "text": [
      "Orignal Array of 8X8 matrix\n [[0. 0. 0. 0. 0. 0. 0. 0.]\n [0. 0. 0. 0. 0. 0. 0. 0.]\n [0. 0. 0. 0. 0. 0. 0. 0.]\n [0. 0. 0. 0. 0. 0. 0. 0.]\n [0. 0. 0. 0. 0. 0. 0. 0.]\n [0. 0. 0. 0. 0. 0. 0. 0.]\n [0. 0. 0. 0. 0. 0. 0. 0.]\n [0. 0. 0. 0. 0. 0. 0. 0.]]\n"
     ]
    }
   ],
   "source": [
    "\n",
    "'''\n",
    "Title -   Write a Python program to create a 8x8 matrix and fill it with a checkerboard pattern.\n",
    "            Checkerboard pattern:\n",
    "            [[0 1 0 1 0 1 0 1]\n",
    "            [1 0 1 0 1 0 1 0]\n",
    "            [0 1 0 1 0 1 0 1]\n",
    "            [1 0 1 0 1 0 1 0]\n",
    "            [0 1 0 1 0 1 0 1]\n",
    "            [1 0 1 0 1 0 1 0]\n",
    "            [0 1 0 1 0 1 0 1]\n",
    "            [1 0 1 0 1 0 1 0]]\n",
    "\n",
    "\n",
    "Author name - Aditya Kumar\n",
    "Ceation time - ‎‎10 ‎March ‎2021 ‏‎\n",
    "Modified time - ‎‎‎10 ‎March ‎2021‎\n",
    "\n",
    "'''\n",
    "\n",
    "import numpy as np\n",
    "\n",
    "arr = np.zeros((8,8), dtype=int)\n",
    "print(\"Orignal Array of 8X8 matrix\\n\", arr)"
   ]
  }
 ]
}