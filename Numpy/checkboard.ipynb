{
 "metadata": {
  "language_info": {
   "codemirror_mode": {
    "name": "ipython",
    "version": 3
   },
   "file_extension": ".py",
   "mimetype": "text/x-python",
   "name": "python",
   "nbconvert_exporter": "python",
   "pygments_lexer": "ipython3",
   "version": 3
  },
  "orig_nbformat": 2
 },
 "nbformat": 4,
 "nbformat_minor": 2,
 "cells": [
  {
   "cell_type": "code",
   "execution_count": null,
   "metadata": {},
   "outputs": [],
   "source": [
    "\n",
    "'''\n",
    "Title -   Write a Python program to create a 8x8 matrix and fill it with a checkerboard pattern.\n",
    "            Checkerboard pattern:\n",
    "            [[0 1 0 1 0 1 0 1]\n",
    "            [1 0 1 0 1 0 1 0]\n",
    "            [0 1 0 1 0 1 0 1]\n",
    "            [1 0 1 0 1 0 1 0]\n",
    "            [0 1 0 1 0 1 0 1]\n",
    "            [1 0 1 0 1 0 1 0]\n",
    "            [0 1 0 1 0 1 0 1]\n",
    "            [1 0 1 0 1 0 1 0]]\n",
    "\n",
    "\n",
    "Author name - Aditya Kumar\n",
    "Ceation time - ‎‎10 ‎March ‎2021 ‏‎\n",
    "Modified time - ‎‎‎10 ‎March ‎2021‎\n",
    "\n",
    "'''\n",
    "\n",
    "import numpy as np\n",
    "\n",
    "arr = np.zeros((8,8))\n",
    "print(\"Orignal Array of 8X8 matrix\\n\", arr)"
   ]
  }
 ]
}