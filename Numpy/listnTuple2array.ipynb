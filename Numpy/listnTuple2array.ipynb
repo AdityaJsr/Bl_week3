{
 "metadata": {
  "language_info": {
   "codemirror_mode": {
    "name": "ipython",
    "version": 3
   },
   "file_extension": ".py",
   "mimetype": "text/x-python",
   "name": "python",
   "nbconvert_exporter": "python",
   "pygments_lexer": "ipython3",
   "version": "3.8.5-final"
  },
  "orig_nbformat": 2,
  "kernelspec": {
   "name": "python3",
   "display_name": "Python 3.8.5 64-bit (conda)",
   "metadata": {
    "interpreter": {
     "hash": "ecf5722fdaf1897a315d257d89d94520bfcaa453217d5becf09b39e73618b0de"
    }
   }
  }
 },
 "nbformat": 4,
 "nbformat_minor": 2,
 "cells": [
  {
   "cell_type": "code",
   "execution_count": 9,
   "metadata": {},
   "outputs": [
    {
     "output_type": "stream",
     "name": "stdout",
     "text": [
      "['12', '87', '-45', '66', '1179', '23']\n([8, 4, 6], [1, 2, 3])\n"
     ]
    }
   ],
   "source": [
    "\n",
    "'''\n",
    "Title -  Write a Python program to convert a list and tuple into arrays.\n",
    "            List to array:\n",
    "            [1 2 3 4 5 6 7 8]\n",
    "            Tuple to array:\n",
    "            [[8 4 6]\n",
    "            [1 2 3]]\n",
    "\n",
    "Author name - Aditya Kumar\n",
    "Ceation time - ‎‎10 ‎March ‎2021 ‏‎\n",
    "Modified time - ‎‎‎10 ‎March ‎2021‎\n",
    "'''\n",
    "import numpy as np\n",
    "\n",
    "list1 = list(input(\"Enter the comma seprated values of list : \").split(\",\"))\n",
    "print(list1)\n",
    "tuple1 = ([8,4,6],[1,2,3])\n",
    "print(tuple1)\n",
    "\n"
   ]
  },
  {
   "cell_type": "code",
   "execution_count": 10,
   "metadata": {},
   "outputs": [
    {
     "output_type": "stream",
     "name": "stdout",
     "text": [
      "['12' '87' '-45' '66' '1179' '23']\n"
     ]
    }
   ],
   "source": [
    "arrayOfList = np.array(list1)\n",
    "print(arrayOfList, type(arrayOfList))"
   ]
  },
  {
   "cell_type": "code",
   "execution_count": 11,
   "metadata": {},
   "outputs": [
    {
     "output_type": "stream",
     "name": "stdout",
     "text": [
      "[[8 4 6]\n [1 2 3]]\n"
     ]
    }
   ],
   "source": [
    "arrayOfTuple = np.array(tuple1)\n",
    "print(arrayOfTuple, type(arrayOfTuple))"
   ]
  }
 ]
}