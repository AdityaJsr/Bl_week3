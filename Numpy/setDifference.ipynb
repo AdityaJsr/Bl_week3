{
 "metadata": {
  "language_info": {
   "codemirror_mode": {
    "name": "ipython",
    "version": 3
   },
   "file_extension": ".py",
   "mimetype": "text/x-python",
   "name": "python",
   "nbconvert_exporter": "python",
   "pygments_lexer": "ipython3",
   "version": "3.8.5-final"
  },
  "orig_nbformat": 2,
  "kernelspec": {
   "name": "python3",
   "display_name": "Python 3.8.5 64-bit (conda)",
   "metadata": {
    "interpreter": {
     "hash": "ecf5722fdaf1897a315d257d89d94520bfcaa453217d5becf09b39e73618b0de"
    }
   }
  }
 },
 "nbformat": 4,
 "nbformat_minor": 2,
 "cells": [
  {
   "cell_type": "code",
   "execution_count": 9,
   "metadata": {},
   "outputs": [
    {
     "output_type": "stream",
     "name": "stdout",
     "text": [
      "Array 1 : \n [ 0 10 20 40 60 80] \nArray 2 :\n [10 30 40 50 70 90]\n"
     ]
    }
   ],
   "source": [
    "'''\n",
    "Title -    Write a Python program to find the set difference of two arrays. The set difference\n",
    "            will return the sorted, unique values in array1 that are not in array2.\n",
    "            Expected Output:\n",
    "            Array1: [ 0 10 20 40 60 80]\n",
    "            Array2: [10, 30, 40, 50, 70, 90]\n",
    "            Set difference between two arrays:\n",
    "            [ 0 20 60 80]\n",
    "\n",
    "Author name - Aditya Kumar\n",
    "Ceation time - ‎‎10 ‎March ‎2021 ‏‎\n",
    "Modified time - ‎‎‎10 ‎March ‎2021‎\n",
    "\n",
    "'''\n",
    "import numpy as np\n",
    "\n",
    "Array1 = np.array([ 0, 10, 20, 40, 60, 80])\n",
    "Array2 = np.array([10, 30, 40, 50, 70, 90])\n",
    "\n",
    "print(\"Array 1 : \\n\",Array1, \"\\nArray 2 :\\n\", Array2)"
   ]
  },
  {
   "cell_type": "code",
   "execution_count": 12,
   "metadata": {},
   "outputs": [
    {
     "output_type": "execute_result",
     "data": {
      "text/plain": [
       "array([ 0, 20, 60, 80])"
      ]
     },
     "metadata": {},
     "execution_count": 12
    }
   ],
   "source": [
    "np.setdiff1d(Array1, Array2, assume_unique=False)"
   ]
  },
  {
   "cell_type": "code",
   "execution_count": null,
   "metadata": {},
   "outputs": [],
   "source": []
  }
 ]
}